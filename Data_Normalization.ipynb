{
 "cells": [
  {
   "cell_type": "code",
   "execution_count": 1,
   "id": "1eb7185f",
   "metadata": {},
   "outputs": [],
   "source": [
    "import pandas as pd\n",
    "from matplotlib import pyplot as plt\n",
    "import numpy as np"
   ]
  },
  {
   "cell_type": "markdown",
   "id": "9edb6e82",
   "metadata": {},
   "source": [
    "#### Normalize and add moving average"
   ]
  },
  {
   "cell_type": "code",
   "execution_count": 2,
   "id": "0aca82d2",
   "metadata": {},
   "outputs": [],
   "source": [
    "def normalize_rolling_ten(df):\n",
    "    df['mov_ten_avg'] = df['p_avg'].rolling(window=10).mean()\n",
    "    df['mov_ten_min'] = df['p_min'].rolling(window=10).mean()\n",
    "    df['mov_ten_max'] = df['p_max'].rolling(window=10).mean()\n",
    "    df.loc[:9, 'mov_ten_avg'] = df.loc[:9, 'p_avg']\n",
    "    df.loc[:9, 'mov_ten_min'] = df.loc[:9, 'p_min']\n",
    "    df.loc[:9, 'mov_ten_max'] = df.loc[:9, 'p_max']\n",
    "    return df"
   ]
  },
  {
   "cell_type": "markdown",
   "id": "a10fa9b0",
   "metadata": {},
   "source": [
    "#### Normalize and add moving average"
   ]
  },
  {
   "cell_type": "code",
   "execution_count": 3,
   "id": "3e4a7b31",
   "metadata": {},
   "outputs": [],
   "source": [
    "def normalize_rolling_thirty(df):\n",
    "    df['mov_thirty_avg'] = df['p_avg'].rolling(window=30).mean()\n",
    "    df['mov_thirty_min'] = df['p_min'].rolling(window=30).mean()\n",
    "    df['mov_thirty_max'] = df['p_max'].rolling(window=30).mean()\n",
    "    df.loc[:29, 'mov_thirty_avg'] = df.loc[:29, 'p_avg']\n",
    "    df.loc[:29, 'mov_thirty_min'] = df.loc[:29, 'p_min']\n",
    "    df.loc[:29, 'mov_thirty_max'] = df.loc[:29, 'p_max']\n",
    "    return df"
   ]
  },
  {
   "cell_type": "markdown",
   "id": "7cc65867",
   "metadata": {},
   "source": [
    "#### Normalize using relative changes"
   ]
  },
  {
   "cell_type": "code",
   "execution_count": 9,
   "id": "74a522de",
   "metadata": {},
   "outputs": [],
   "source": [
    "def normal_relative_changes(df):\n",
    "    avg_series = df['p_avg'].values\n",
    "    min_series = df['p_min'].values\n",
    "    max_series = df['p_max'].values\n",
    "    step=1\n",
    "    df_avg_series=avg_series[step:]-avg_series[:-step]\n",
    "    df_min_series=min_series[step:]-min_series[:-step]\n",
    "    df_max_series=max_series[step:]-max_series[:-step]\n",
    "    window_size=15\n",
    "    mv1=[]\n",
    "    mv2=[]\n",
    "    mv3=[]\n",
    "    for i in range(len(df_avg_series)-window_size):\n",
    "      mv1.append(np.mean(df_avg_series[i:i+window_size]))\n",
    "    mv2=[]\n",
    "    for i in range(len(df_min_series)-window_size):\n",
    "      mv2.append(np.mean(df_min_series[i:i+window_size]))\n",
    "    mv3=[]\n",
    "    for i in range(len(df_max_series)-window_size):\n",
    "      mv3.append(np.mean(df_max_series[i:i+window_size]))\n",
    "    mvv1=mv1+ avg_series[:-step-window_size]\n",
    "    mvv2=mv2+ min_series[:-step-window_size]\n",
    "    mvv3=mv3+ max_series[:-step-window_size]\n",
    "    data = {\n",
    "    'p_min_rel': mvv2,\n",
    "    'p_max_rel': mvv3,\n",
    "    'p_avg_rel': mvv1,\n",
    "    'timestamp_device':df['timestamp_device'].iloc[16:]\n",
    "    }\n",
    "    dff = pd.DataFrame(data)\n",
    "    dff = dff.reset_index(drop=True)\n",
    "    return dff"
   ]
  },
  {
   "cell_type": "markdown",
   "id": "7e2470c8",
   "metadata": {},
   "source": [
    "#### Loading data and Moving Average normalization with window size = 10"
   ]
  },
  {
   "cell_type": "code",
   "execution_count": 6,
   "id": "80f05766",
   "metadata": {},
   "outputs": [],
   "source": [
    "num_files = 19\n",
    "\n",
    "\n",
    "for i in range(1, num_files + 1):\n",
    "    filename = f'data/device{i}.csv'\n",
    "    df = pd.read_csv(filename)\n",
    "    \n",
    "    # Normalize the DataFrame\n",
    "    df_normalized = normalize_rolling_ten(df)\n",
    "    \n",
    "    # Save the normalized DataFrame to a new CSV file\n",
    "    output_filename = f'data/normal_moving_ten/normalized_device{i}.csv'\n",
    "    df_normalized.to_csv(output_filename, index=False)\n",
    "    \n",
    " "
   ]
  },
  {
   "cell_type": "code",
   "execution_count": 7,
   "id": "38e2c2a1",
   "metadata": {},
   "outputs": [],
   "source": [
    "num_files = 19\n",
    "\n",
    "\n",
    "for i in range(1, num_files + 1):\n",
    "    filename = f'data/device{i}.csv'\n",
    "    df = pd.read_csv(filename)\n",
    "    \n",
    "    # Normalize the DataFrame\n",
    "    df_normalized = normalize_rolling_thirty(df)\n",
    "    \n",
    "    # Save the normalized DataFrame to a new CSV file\n",
    "    output_filename = f'data/normal_moving_thirty/normalized_device{i}.csv'\n",
    "    df_normalized.to_csv(output_filename, index=False)\n",
    "    \n",
    " "
   ]
  },
  {
   "cell_type": "code",
   "execution_count": 10,
   "id": "62e06f4a",
   "metadata": {},
   "outputs": [],
   "source": [
    "num_files = 19\n",
    "\n",
    "\n",
    "for i in range(1, num_files + 1):\n",
    "    filename = f'data/device{i}.csv'\n",
    "    df = pd.read_csv(filename)\n",
    "    \n",
    "    # Normalize the DataFrame\n",
    "    df_normalized = normal_relative_changes(df)\n",
    "    \n",
    "    # Save the normalized DataFrame to a new CSV file\n",
    "    output_filename = f'data/normal_relative_change/normalized_device{i}.csv'\n",
    "    df_normalized.to_csv(output_filename, index=False)\n",
    "    \n",
    " "
   ]
  },
  {
   "cell_type": "code",
   "execution_count": null,
   "id": "e258e19f",
   "metadata": {},
   "outputs": [],
   "source": []
  }
 ],
 "metadata": {
  "kernelspec": {
   "display_name": "Python 3 (ipykernel)",
   "language": "python",
   "name": "python3"
  },
  "language_info": {
   "codemirror_mode": {
    "name": "ipython",
    "version": 3
   },
   "file_extension": ".py",
   "mimetype": "text/x-python",
   "name": "python",
   "nbconvert_exporter": "python",
   "pygments_lexer": "ipython3",
   "version": "3.11.2"
  }
 },
 "nbformat": 4,
 "nbformat_minor": 5
}
