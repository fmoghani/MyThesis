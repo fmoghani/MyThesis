{
 "cells": [
  {
   "cell_type": "code",
   "execution_count": 1,
   "id": "0d835502",
   "metadata": {},
   "outputs": [],
   "source": [
    "import pandas as pd\n",
    "from matplotlib import pyplot as plt\n",
    "import numpy as np"
   ]
  },
  {
   "cell_type": "markdown",
   "id": "e7d115e6",
   "metadata": {},
   "source": [
    "### List of thresholds of devices that we have. For those that we do not have threshold it is assigned to zero."
   ]
  },
  {
   "cell_type": "code",
   "execution_count": 2,
   "id": "c1c916bd",
   "metadata": {},
   "outputs": [],
   "source": [
    "thresholds = {\n",
    "    \"dev-5t2uup6709t3\":0,\n",
    "    \"dev-5t2utpi5paxv\":500,\n",
    "    \"dev-5t2uyos6ulyr\":0,\n",
    "    \"dev-5t2uv5yxfbft\":1500,\n",
    "    \"dev-5t2ure2gsucf\":0,\n",
    "    \"dev-5t2uy4thkcdt\":0,\n",
    "    \"dev-5t2uvus0me23\":2000,\n",
    "    \"dev-5t2v0iy5iw8p\":4000,\n",
    "    \"dev-5t2uxn4wxw33\":3500,\n",
    "    \"dev-5t2v2bfwnagv\":5000,\n",
    "    \"dev-5t2ux5l4mfn1\":1000,\n",
    "    \"dev-5t2ut9n2f0yp\":0, \n",
    "    \"dev-5t2upjdaeobf\":0,  \n",
    "    \"dev-5t2v17d5skor\":0,\n",
    "    \"dev-5t2uza97fe7p\":1500,\n",
    "    \"dev-5t2uqb77ohb1\":1500,\n",
    "    \"dev-5t2uu82uirad\":4000,\n",
    "    \"dev-5t2uzv34fzcn\":1700,\n",
    "    \"dev-5t2v1puiqwfx\":0\n",
    "}"
   ]
  },
  {
   "cell_type": "markdown",
   "id": "eec96a81",
   "metadata": {},
   "source": [
    "### Takes a row from a column, which is a string of floats separated by commas, and splits it into three separate values: p_avg, p_min, and p_max. These values are then returned as a series."
   ]
  },
  {
   "cell_type": "code",
   "execution_count": 3,
   "id": "86db7239",
   "metadata": {},
   "outputs": [],
   "source": [
    "def parse_values(row):\n",
    "    values = [float(x.strip(' []')) for x in row.split(',')]\n",
    "    return pd.Series(values, index=['p_avg', 'p_min', 'p_max'])"
   ]
  },
  {
   "cell_type": "markdown",
   "id": "91e7f1db",
   "metadata": {},
   "source": [
    "### Reads the entire dataset, indexes it by timestamp_device, filters the rows where the tag equals \"data\", selects specific columns for the final DataFrame, call the parse_values function on column P and drops any unwanted columns. The processed DataFrame is then returned:"
   ]
  },
  {
   "cell_type": "code",
   "execution_count": 4,
   "id": "29d3ac2a",
   "metadata": {},
   "outputs": [],
   "source": [
    "# Read the data\n",
    "def load_and_process_data(file_path):\n",
    "    df = pd.read_csv(file_path, parse_dates=True, low_memory=False)\n",
    "    df['timestamp_device'] = pd.to_datetime(df['timestamp_device'])\n",
    "    df = df[df['tag'] == 'data'].reset_index(drop=True)\n",
    "    df = df[['P', 'timestamp_device', 'device_id']]\n",
    "    df[['p_avg', 'p_min', 'p_max']] = df['P'].apply(parse_values)\n",
    "    df = df.drop(columns=['P'])\n",
    "    return df"
   ]
  },
  {
   "cell_type": "code",
   "execution_count": 5,
   "id": "9808c136",
   "metadata": {},
   "outputs": [],
   "source": [
    "df = load_and_process_data(file_path=\"data/data.csv\")"
   ]
  },
  {
   "cell_type": "markdown",
   "id": "eb77810b",
   "metadata": {},
   "source": [
    "### The DataFrame is divided based on device_id, and each subset is saved as a CSV file named device1, device2, ..., device19, corresponding to the 19 different devices."
   ]
  },
  {
   "cell_type": "code",
   "execution_count": 6,
   "id": "d5aeecc7",
   "metadata": {},
   "outputs": [],
   "source": [
    "dfs={}\n",
    "grouped_data = df.groupby('device_id')\n",
    "for i, (device_id, data) in enumerate(grouped_data, start=1):\n",
    "    dfs[i] = data.sort_values(by ='timestamp_device').reset_index(drop= True)\n",
    "    threshold = thresholds[dfs[i]['device_id'].iloc[0]]\n",
    "    dfs[i].loc[dfs[i]['p_avg']< threshold, 'y'] = 0\n",
    "    dfs[i].loc[dfs[i]['p_avg'] > threshold, 'y'] = 1"
   ]
  },
  {
   "cell_type": "code",
   "execution_count": 7,
   "id": "b53f2849",
   "metadata": {},
   "outputs": [],
   "source": [
    "j=1\n",
    "for i in range(1,20):\n",
    "    dfs[i].to_csv('data/device'+str(j)+'.csv', index=False)\n",
    "    j+=1"
   ]
  },
  {
   "cell_type": "code",
   "execution_count": null,
   "id": "b79d497c",
   "metadata": {},
   "outputs": [],
   "source": []
  }
 ],
 "metadata": {
  "kernelspec": {
   "display_name": "Python 3 (ipykernel)",
   "language": "python",
   "name": "python3"
  },
  "language_info": {
   "codemirror_mode": {
    "name": "ipython",
    "version": 3
   },
   "file_extension": ".py",
   "mimetype": "text/x-python",
   "name": "python",
   "nbconvert_exporter": "python",
   "pygments_lexer": "ipython3",
   "version": "3.11.2"
  }
 },
 "nbformat": 4,
 "nbformat_minor": 5
}
